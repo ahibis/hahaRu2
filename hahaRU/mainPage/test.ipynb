{
 "cells": [
  {
   "cell_type": "code",
   "execution_count": 19,
   "metadata": {},
   "outputs": [],
   "source": [
    "class IdList:\n",
    "    def __init__(self,ids=\"\"):\n",
    "        if (ids == None):\n",
    "            ids = \"\"\n",
    "        self._ids=ids\n",
    "\n",
    "    def BinarySearch(self,array=\"\",searchedValue=0,first=0,last=0):\n",
    "        if first > last:\n",
    "            return -1\n",
    "        middle = (first + last) // 2\n",
    "        middleValue = ord(array[middle])\n",
    "        if middleValue == searchedValue:\n",
    "            return middle\n",
    "        else:\n",
    "            if middleValue > searchedValue:\n",
    "                return self.BinarySearch(array, searchedValue, first, middle - 1)\n",
    "            else:\n",
    "                return self.BinarySearch(array, searchedValue, middle + 1, last)\n",
    "\n",
    "    def BinarySearchPut(self, array=\"\", searchedValue=0, first=0, last=0):\n",
    "        if first > last:\n",
    "            return first\n",
    "        middle = (first + last) // 2\n",
    "        middleValue = ord(array[middle])\n",
    "        if middleValue == searchedValue:\n",
    "            return -1\n",
    "        else:\n",
    "            if middleValue > searchedValue:\n",
    "                return self.BinarySearchPut(array, searchedValue, first, middle - 1)\n",
    "            else:\n",
    "                return self.BinarySearchPut(array, searchedValue, middle + 1, last)\n",
    "\n",
    "    def hasId(self, Id=0):\n",
    "        return self.BinarySearchPut(self._ids, Id, 0, len(self._ids) - 1) == -1\n",
    "\n",
    "    def AddId(self,Id=0):\n",
    "        f1 = self.BinarySearchPut(self._ids, Id, 0, len(self._ids) - 1)\n",
    "        if f1 == -1:\n",
    "            return self._ids\n",
    "        ch = chr(Id)\n",
    "        self._ids = self._ids[:f1] + ch + self._ids[f1:]\n",
    "        return self._ids\n",
    "\n",
    "    def toList(self):\n",
    "        l = []\n",
    "        for a in self._ids:\n",
    "            l.append(ord(a))\n",
    "        return l\n",
    "\n",
    "    def toString(self):\n",
    "        return self._ids\n",
    "\n",
    "    def removeId(self,Id=0):\n",
    "        f = self.BinarySearch(self._ids, Id, 0, len(self._ids) - 1)\n",
    "        if f == -1:\n",
    "            return\n",
    "        self._ids = self._ids[:f]+self._ids[f+1:]"
   ]
  },
  {
   "cell_type": "code",
   "execution_count": 47,
   "metadata": {},
   "outputs": [
    {
     "data": {
      "text/plain": [
       "[1, 2, 5]"
      ]
     },
     "execution_count": 47,
     "metadata": {},
     "output_type": "execute_result"
    }
   ],
   "source": [
    "likes = IdList();\n",
    "likes.AddId(1)\n",
    "likes.AddId(2)\n",
    "likes.AddId(5)\n",
    "likes.AddId(3)\n",
    "likes.AddId(1000005)\n",
    "likes.AddId(2)\n",
    "likes.removeId(3)\n",
    "likes.removeId(1000005)\n",
    "likes.toList()"
   ]
  }
 ],
 "metadata": {
  "interpreter": {
   "hash": "2db524e06e9f5f4ffedc911c917cb75e12dbc923643829bf417064a77eb14d37"
  },
  "kernelspec": {
   "display_name": "Python 3.8.3 64-bit",
   "language": "python",
   "name": "python3"
  },
  "language_info": {
   "codemirror_mode": {
    "name": "ipython",
    "version": 3
   },
   "file_extension": ".py",
   "mimetype": "text/x-python",
   "name": "python",
   "nbconvert_exporter": "python",
   "pygments_lexer": "ipython3",
   "version": "3.8.3"
  },
  "orig_nbformat": 4
 },
 "nbformat": 4,
 "nbformat_minor": 2
}
